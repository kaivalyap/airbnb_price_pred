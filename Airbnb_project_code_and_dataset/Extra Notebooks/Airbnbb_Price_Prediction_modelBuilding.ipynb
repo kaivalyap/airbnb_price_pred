{
 "cells": [
  {
   "cell_type": "code",
   "execution_count": 1,
   "id": "6e512ce9",
   "metadata": {},
   "outputs": [],
   "source": [
    "import pandas as pd\n",
    "import numpy as np"
   ]
  },
  {
   "cell_type": "code",
   "execution_count": null,
   "id": "ca89cbda",
   "metadata": {},
   "outputs": [],
   "source": []
  },
  {
   "cell_type": "code",
   "execution_count": 2,
   "id": "df059ebb",
   "metadata": {},
   "outputs": [],
   "source": [
    "df = pd.read_csv('Airbnb_Price_Prediction_cleanedData.csv')"
   ]
  },
  {
   "cell_type": "code",
   "execution_count": 3,
   "id": "ef80019c",
   "metadata": {},
   "outputs": [],
   "source": [
    "x = df.drop('log_price', axis = 1)\n",
    "y = df['log_price']"
   ]
  },
  {
   "cell_type": "code",
   "execution_count": 4,
   "id": "61d25c85",
   "metadata": {},
   "outputs": [
    {
     "data": {
      "text/plain": [
       "Index(['property_type', 'room_type', 'accommodates', 'bathrooms',\n",
       "       'cancellation_policy', 'bedrooms', 'beds'],\n",
       "      dtype='object')"
      ]
     },
     "execution_count": 4,
     "metadata": {},
     "output_type": "execute_result"
    }
   ],
   "source": [
    "x.columns"
   ]
  },
  {
   "cell_type": "code",
   "execution_count": 5,
   "id": "68a3b4ba",
   "metadata": {},
   "outputs": [
    {
     "data": {
      "text/html": [
       "<div>\n",
       "<style scoped>\n",
       "    .dataframe tbody tr th:only-of-type {\n",
       "        vertical-align: middle;\n",
       "    }\n",
       "\n",
       "    .dataframe tbody tr th {\n",
       "        vertical-align: top;\n",
       "    }\n",
       "\n",
       "    .dataframe thead th {\n",
       "        text-align: right;\n",
       "    }\n",
       "</style>\n",
       "<table border=\"1\" class=\"dataframe\">\n",
       "  <thead>\n",
       "    <tr style=\"text-align: right;\">\n",
       "      <th></th>\n",
       "      <th>log_price</th>\n",
       "      <th>property_type</th>\n",
       "      <th>room_type</th>\n",
       "      <th>accommodates</th>\n",
       "      <th>bathrooms</th>\n",
       "      <th>cancellation_policy</th>\n",
       "      <th>bedrooms</th>\n",
       "      <th>beds</th>\n",
       "    </tr>\n",
       "  </thead>\n",
       "  <tbody>\n",
       "    <tr>\n",
       "      <th>0</th>\n",
       "      <td>5.010635</td>\n",
       "      <td>0</td>\n",
       "      <td>0</td>\n",
       "      <td>3</td>\n",
       "      <td>1.0</td>\n",
       "      <td>2</td>\n",
       "      <td>1.0</td>\n",
       "      <td>1.0</td>\n",
       "    </tr>\n",
       "    <tr>\n",
       "      <th>1</th>\n",
       "      <td>5.129899</td>\n",
       "      <td>0</td>\n",
       "      <td>0</td>\n",
       "      <td>7</td>\n",
       "      <td>1.0</td>\n",
       "      <td>2</td>\n",
       "      <td>3.0</td>\n",
       "      <td>3.0</td>\n",
       "    </tr>\n",
       "    <tr>\n",
       "      <th>2</th>\n",
       "      <td>4.976734</td>\n",
       "      <td>0</td>\n",
       "      <td>0</td>\n",
       "      <td>5</td>\n",
       "      <td>1.0</td>\n",
       "      <td>1</td>\n",
       "      <td>1.0</td>\n",
       "      <td>3.0</td>\n",
       "    </tr>\n",
       "    <tr>\n",
       "      <th>3</th>\n",
       "      <td>6.620073</td>\n",
       "      <td>17</td>\n",
       "      <td>0</td>\n",
       "      <td>4</td>\n",
       "      <td>1.0</td>\n",
       "      <td>0</td>\n",
       "      <td>2.0</td>\n",
       "      <td>2.0</td>\n",
       "    </tr>\n",
       "    <tr>\n",
       "      <th>4</th>\n",
       "      <td>4.744932</td>\n",
       "      <td>0</td>\n",
       "      <td>0</td>\n",
       "      <td>2</td>\n",
       "      <td>1.0</td>\n",
       "      <td>1</td>\n",
       "      <td>0.0</td>\n",
       "      <td>1.0</td>\n",
       "    </tr>\n",
       "    <tr>\n",
       "      <th>5</th>\n",
       "      <td>4.442651</td>\n",
       "      <td>0</td>\n",
       "      <td>1</td>\n",
       "      <td>2</td>\n",
       "      <td>1.0</td>\n",
       "      <td>2</td>\n",
       "      <td>1.0</td>\n",
       "      <td>1.0</td>\n",
       "    </tr>\n",
       "    <tr>\n",
       "      <th>6</th>\n",
       "      <td>4.418841</td>\n",
       "      <td>0</td>\n",
       "      <td>0</td>\n",
       "      <td>3</td>\n",
       "      <td>1.0</td>\n",
       "      <td>1</td>\n",
       "      <td>1.0</td>\n",
       "      <td>1.0</td>\n",
       "    </tr>\n",
       "    <tr>\n",
       "      <th>7</th>\n",
       "      <td>4.787492</td>\n",
       "      <td>11</td>\n",
       "      <td>0</td>\n",
       "      <td>2</td>\n",
       "      <td>1.0</td>\n",
       "      <td>1</td>\n",
       "      <td>1.0</td>\n",
       "      <td>1.0</td>\n",
       "    </tr>\n",
       "    <tr>\n",
       "      <th>8</th>\n",
       "      <td>4.787492</td>\n",
       "      <td>17</td>\n",
       "      <td>1</td>\n",
       "      <td>2</td>\n",
       "      <td>1.0</td>\n",
       "      <td>1</td>\n",
       "      <td>1.0</td>\n",
       "      <td>1.0</td>\n",
       "    </tr>\n",
       "    <tr>\n",
       "      <th>9</th>\n",
       "      <td>3.583519</td>\n",
       "      <td>17</td>\n",
       "      <td>1</td>\n",
       "      <td>2</td>\n",
       "      <td>1.0</td>\n",
       "      <td>1</td>\n",
       "      <td>1.0</td>\n",
       "      <td>1.0</td>\n",
       "    </tr>\n",
       "  </tbody>\n",
       "</table>\n",
       "</div>"
      ],
      "text/plain": [
       "   log_price  property_type  room_type  accommodates  bathrooms  \\\n",
       "0   5.010635              0          0             3        1.0   \n",
       "1   5.129899              0          0             7        1.0   \n",
       "2   4.976734              0          0             5        1.0   \n",
       "3   6.620073             17          0             4        1.0   \n",
       "4   4.744932              0          0             2        1.0   \n",
       "5   4.442651              0          1             2        1.0   \n",
       "6   4.418841              0          0             3        1.0   \n",
       "7   4.787492             11          0             2        1.0   \n",
       "8   4.787492             17          1             2        1.0   \n",
       "9   3.583519             17          1             2        1.0   \n",
       "\n",
       "   cancellation_policy  bedrooms  beds  \n",
       "0                    2       1.0   1.0  \n",
       "1                    2       3.0   3.0  \n",
       "2                    1       1.0   3.0  \n",
       "3                    0       2.0   2.0  \n",
       "4                    1       0.0   1.0  \n",
       "5                    2       1.0   1.0  \n",
       "6                    1       1.0   1.0  \n",
       "7                    1       1.0   1.0  \n",
       "8                    1       1.0   1.0  \n",
       "9                    1       1.0   1.0  "
      ]
     },
     "execution_count": 5,
     "metadata": {},
     "output_type": "execute_result"
    }
   ],
   "source": [
    "df.head(10)"
   ]
  },
  {
   "cell_type": "code",
   "execution_count": 6,
   "id": "5326993d",
   "metadata": {},
   "outputs": [],
   "source": [
    "from sklearn.model_selection import train_test_split\n",
    "\n",
    "x_train, x_test, y_train, y_test = train_test_split(x, y, train_size=0.8, random_state=99833214)"
   ]
  },
  {
   "cell_type": "code",
   "execution_count": 8,
   "id": "9b71024b",
   "metadata": {},
   "outputs": [],
   "source": [
    "def randomForest():\n",
    "    from sklearn.ensemble import RandomForestRegressor\n",
    "    model = RandomForestRegressor(n_estimators=500,min_samples_split=72,min_samples_leaf=3,max_features=7,max_depth=90,bootstrap=True)\n",
    "    model.fit(x_train,y_train)\n",
    "    return model"
   ]
  },
  {
   "cell_type": "code",
   "execution_count": 7,
   "id": "aa415bce",
   "metadata": {},
   "outputs": [],
   "source": [
    "def evaluate_model(model, name):\n",
    "    predictions = model.predict(x_test)\n",
    "    \n",
    "    from sklearn.metrics import mean_absolute_error, mean_squared_error, r2_score\n",
    "    \n",
    "    # create a dictionary to hold the result along with the model name\n",
    "    result = {\n",
    "        \"name\": name,\n",
    "        \"MAE\": mean_absolute_error(y_test, predictions),\n",
    "        \"MSE\": mean_squared_error(y_test, predictions),\n",
    "        \"RMSE\": np.sqrt(mean_squared_error(y_test, predictions)),\n",
    "        \"R2 Score\": r2_score(y_test, predictions)\n",
    "    }\n",
    "    \n",
    "    return result"
   ]
  },
  {
   "cell_type": "code",
   "execution_count": 10,
   "id": "1ae857cc",
   "metadata": {},
   "outputs": [
    {
     "data": {
      "text/plain": [
       "{'name': 'Random Forest',\n",
       " 'MAE': 0.36749367726961146,\n",
       " 'MSE': 0.2359513887380514,\n",
       " 'RMSE': 0.4857482771333846,\n",
       " 'R2 Score': 0.5515306328552049}"
      ]
     },
     "execution_count": 10,
     "metadata": {},
     "output_type": "execute_result"
    }
   ],
   "source": [
    "evaluate_model(randomForest(),\"Random Forest\")"
   ]
  },
  {
   "cell_type": "code",
   "execution_count": null,
   "id": "ccc10805",
   "metadata": {},
   "outputs": [],
   "source": [
    "\n",
    "import pickle\n",
    "# create the file to store the model\n",
    "# w: write\n",
    "# b: binary data\n",
    "file1 = open('price_predict_model_rf.pkl', 'wb')\n",
    "model = randomForest()\n",
    "# store the model using pickle\n",
    "pickle.dump(model, file1)\n",
    "\n",
    "# save the file\n",
    "file1.close()"
   ]
  },
  {
   "cell_type": "code",
   "execution_count": null,
   "id": "f6111f9a",
   "metadata": {},
   "outputs": [],
   "source": []
  },
  {
   "cell_type": "code",
   "execution_count": null,
   "id": "563bd079",
   "metadata": {},
   "outputs": [],
   "source": []
  },
  {
   "cell_type": "code",
   "execution_count": 11,
   "id": "e1dd49fc",
   "metadata": {},
   "outputs": [],
   "source": [
    "def simple_linear():\n",
    "    from sklearn.linear_model import LinearRegression\n",
    "\n",
    "    # create the model\n",
    "    model = LinearRegression()\n",
    "\n",
    "    # train the model\n",
    "    model.fit(x_train, y_train)\n",
    "    \n",
    "    return model\n"
   ]
  },
  {
   "cell_type": "code",
   "execution_count": 12,
   "id": "b2d89fe0",
   "metadata": {},
   "outputs": [],
   "source": [
    "def ridge():\n",
    "    from sklearn.linear_model import Ridge\n",
    "\n",
    "    # create the model\n",
    "    model = Ridge()\n",
    "\n",
    "    # train the model\n",
    "    model.fit(x_train, y_train)\n",
    "    \n",
    "    return model"
   ]
  },
  {
   "cell_type": "code",
   "execution_count": 13,
   "id": "1914fb15",
   "metadata": {},
   "outputs": [],
   "source": [
    "def lasso():\n",
    "    from sklearn.linear_model import Lasso\n",
    "\n",
    "    # create the model\n",
    "    model = Lasso()\n",
    "\n",
    "    # train the model\n",
    "    model.fit(x_train, y_train)\n",
    "    \n",
    "    return model"
   ]
  },
  {
   "cell_type": "code",
   "execution_count": 14,
   "id": "9889019b",
   "metadata": {},
   "outputs": [],
   "source": [
    "def grdBoost():\n",
    "    from sklearn.ensemble import GradientBoostingRegressor\n",
    "\n",
    "    # create the model\n",
    "    model = GradientBoostingRegressor()\n",
    "\n",
    "    # train the model\n",
    "    model.fit(x_train, y_train)\n",
    "\n",
    "    return model"
   ]
  },
  {
   "cell_type": "code",
   "execution_count": 8,
   "id": "e0602173",
   "metadata": {},
   "outputs": [],
   "source": [
    "def xgboost():\n",
    "    from xgboost import XGBRegressor\n",
    "\n",
    "    # create a model\n",
    "    model = XGBRegressor()\n",
    "\n",
    "    # train the model\n",
    "    model.fit(x_train, y_train)\n",
    "    \n",
    "    return model"
   ]
  },
  {
   "cell_type": "code",
   "execution_count": 16,
   "id": "1221ac13",
   "metadata": {},
   "outputs": [],
   "source": [
    "def knn():\n",
    "    from sklearn.neighbors import KNeighborsRegressor\n",
    "    model = KNeighborsRegressor(n_neighbors = 13)\n",
    "    model.fit(x_train,y_train)\n",
    "    return model"
   ]
  },
  {
   "cell_type": "code",
   "execution_count": 17,
   "id": "87efba88",
   "metadata": {},
   "outputs": [],
   "source": [
    "def svm():\n",
    "    from sklearn.svm import SVR\n",
    "    model = SVR()\n",
    "    model.fit(x_train,y_train)\n",
    "    return model"
   ]
  },
  {
   "cell_type": "code",
   "execution_count": 18,
   "id": "47ec2b78",
   "metadata": {},
   "outputs": [],
   "source": [
    "def polynomial():\n",
    "    from sklearn.linear_model import LinearRegression\n",
    "    from sklearn.preprocessing import PolynomialFeatures\n",
    "\n",
    "    poly = PolynomialFeatures(degree = 4)\n",
    "    X_poly = poly.fit_transform(x_train)\n",
    "\n",
    "    poly.fit(X_poly, y_train)\n",
    "    model = LinearRegression()\n",
    "    model.fit(X_poly, y_train)\n",
    "    return model"
   ]
  },
  {
   "cell_type": "code",
   "execution_count": 19,
   "id": "678d9d02",
   "metadata": {},
   "outputs": [
    {
     "data": {
      "text/plain": [
       "{'name': 'simple linear',\n",
       " 'MAE': 0.3803190826071599,\n",
       " 'MSE': 0.25200157618468383,\n",
       " 'RMSE': 0.5019975858355136,\n",
       " 'R2 Score': 0.5210242754006289}"
      ]
     },
     "execution_count": 19,
     "metadata": {},
     "output_type": "execute_result"
    }
   ],
   "source": [
    "evaluate_model(simple_linear(),\"simple linear\")"
   ]
  },
  {
   "cell_type": "code",
   "execution_count": 20,
   "id": "749d735d",
   "metadata": {},
   "outputs": [
    {
     "data": {
      "text/plain": [
       "{'name': 'ridge',\n",
       " 'MAE': 0.38031919783372437,\n",
       " 'MSE': 0.2520021210101956,\n",
       " 'RMSE': 0.5019981284927222,\n",
       " 'R2 Score': 0.521023239858716}"
      ]
     },
     "execution_count": 20,
     "metadata": {},
     "output_type": "execute_result"
    }
   ],
   "source": [
    "evaluate_model(ridge(),\"ridge\")"
   ]
  },
  {
   "cell_type": "code",
   "execution_count": 21,
   "id": "eee3a66b",
   "metadata": {},
   "outputs": [
    {
     "data": {
      "text/plain": [
       "{'name': 'lasso',\n",
       " 'MAE': 0.5663872503362921,\n",
       " 'MSE': 0.5261907151472683,\n",
       " 'RMSE': 0.7253900434574962,\n",
       " 'R2 Score': -0.0001230265338401093}"
      ]
     },
     "execution_count": 21,
     "metadata": {},
     "output_type": "execute_result"
    }
   ],
   "source": [
    "evaluate_model(lasso(),\"lasso\")"
   ]
  },
  {
   "cell_type": "code",
   "execution_count": 22,
   "id": "f827b870",
   "metadata": {},
   "outputs": [
    {
     "data": {
      "text/plain": [
       "{'name': 'Gradient boost',\n",
       " 'MAE': 0.36828148558566165,\n",
       " 'MSE': 0.23616708396848035,\n",
       " 'RMSE': 0.48597025008582606,\n",
       " 'R2 Score': 0.5511206640730587}"
      ]
     },
     "execution_count": 22,
     "metadata": {},
     "output_type": "execute_result"
    }
   ],
   "source": [
    "evaluate_model(grdBoost(),\"Gradient boost\")"
   ]
  },
  {
   "cell_type": "code",
   "execution_count": 9,
   "id": "7b27506e",
   "metadata": {},
   "outputs": [
    {
     "data": {
      "text/plain": [
       "{'name': 'XGBoost',\n",
       " 'MAE': 0.3671176168945255,\n",
       " 'MSE': 0.23652457201699756,\n",
       " 'RMSE': 0.4863379195754713,\n",
       " 'R2 Score': 0.550441191747264}"
      ]
     },
     "execution_count": 9,
     "metadata": {},
     "output_type": "execute_result"
    }
   ],
   "source": [
    "evaluate_model(xgboost(),\"XGBoost\")"
   ]
  },
  {
   "cell_type": "code",
   "execution_count": 24,
   "id": "49f7a0d6",
   "metadata": {},
   "outputs": [
    {
     "data": {
      "text/plain": [
       "{'name': 'KNN',\n",
       " 'MAE': 0.3802949427910731,\n",
       " 'MSE': 0.2532701092532842,\n",
       " 'RMSE': 0.5032594850107489,\n",
       " 'R2 Score': 0.5186131930776128}"
      ]
     },
     "execution_count": 24,
     "metadata": {},
     "output_type": "execute_result"
    }
   ],
   "source": [
    "evaluate_model(knn(),\"KNN\")"
   ]
  },
  {
   "cell_type": "code",
   "execution_count": 25,
   "id": "b5f4f463",
   "metadata": {},
   "outputs": [
    {
     "data": {
      "text/plain": [
       "{'name': 'SVM',\n",
       " 'MAE': 0.3693693751342988,\n",
       " 'MSE': 0.2419739643156757,\n",
       " 'RMSE': 0.49190849181090146,\n",
       " 'R2 Score': 0.5400836111939872}"
      ]
     },
     "execution_count": 25,
     "metadata": {},
     "output_type": "execute_result"
    }
   ],
   "source": [
    "evaluate_model(svm(),\"SVM\")"
   ]
  },
  {
   "cell_type": "code",
   "execution_count": null,
   "id": "be0d368d",
   "metadata": {},
   "outputs": [],
   "source": []
  },
  {
   "cell_type": "code",
   "execution_count": null,
   "id": "62da46d9",
   "metadata": {},
   "outputs": [],
   "source": []
  },
  {
   "cell_type": "code",
   "execution_count": 11,
   "id": "065d6554",
   "metadata": {},
   "outputs": [],
   "source": [
    "import pickle\n",
    "\n",
    "# create the file to store the model\n",
    "# w: write\n",
    "# b: binary data\n",
    "\n",
    "# file = open('price_predict_model.pkl', 'wb')\n",
    "model = xgboost()\n",
    "# store the model using pickle\n",
    "# pickle.dump(model, file)\n",
    "\n",
    "pickle.dump(model, open(\"pima.pickle.dat\", \"wb\"))\n",
    "\n",
    "# save the file\n",
    "# file.close()"
   ]
  },
  {
   "cell_type": "code",
   "execution_count": 12,
   "id": "ed7702ac",
   "metadata": {},
   "outputs": [
    {
     "name": "stdout",
     "output_type": "stream",
     "text": [
      "5\n"
     ]
    }
   ],
   "source": [
    "print(5)"
   ]
  },
  {
   "cell_type": "code",
   "execution_count": 13,
   "id": "70f81d56",
   "metadata": {},
   "outputs": [],
   "source": [
    "loaded_model = pickle.load(open(\"pima.pickle.dat\", \"rb\"))"
   ]
  },
  {
   "cell_type": "code",
   "execution_count": 15,
   "id": "de6cf9f3",
   "metadata": {},
   "outputs": [],
   "source": [
    "y_pred = loaded_model.predict(x_test)"
   ]
  },
  {
   "cell_type": "code",
   "execution_count": 17,
   "id": "c5950447",
   "metadata": {},
   "outputs": [
    {
     "ename": "NameError",
     "evalue": "name 'r2_score' is not defined",
     "output_type": "error",
     "traceback": [
      "\u001b[1;31m---------------------------------------------------------------------------\u001b[0m",
      "\u001b[1;31mNameError\u001b[0m                                 Traceback (most recent call last)",
      "\u001b[1;32m~\\AppData\\Local\\Temp/ipykernel_18708/3366918545.py\u001b[0m in \u001b[0;36m<module>\u001b[1;34m\u001b[0m\n\u001b[1;32m----> 1\u001b[1;33m \u001b[0maccuracy\u001b[0m \u001b[1;33m=\u001b[0m \u001b[0mr2_score\u001b[0m\u001b[1;33m(\u001b[0m\u001b[0my_test\u001b[0m\u001b[1;33m,\u001b[0m \u001b[0my_pred\u001b[0m\u001b[1;33m)\u001b[0m\u001b[1;33m\u001b[0m\u001b[1;33m\u001b[0m\u001b[0m\n\u001b[0m\u001b[0;32m      2\u001b[0m \u001b[0mprint\u001b[0m\u001b[1;33m(\u001b[0m\u001b[1;34m\"Accuracy: %.2f%%\"\u001b[0m \u001b[1;33m%\u001b[0m \u001b[1;33m(\u001b[0m\u001b[0maccuracy\u001b[0m \u001b[1;33m*\u001b[0m \u001b[1;36m100.0\u001b[0m\u001b[1;33m)\u001b[0m\u001b[1;33m)\u001b[0m\u001b[1;33m\u001b[0m\u001b[1;33m\u001b[0m\u001b[0m\n",
      "\u001b[1;31mNameError\u001b[0m: name 'r2_score' is not defined"
     ]
    }
   ],
   "source": [
    "accuracy = r2_score(y_test, y_pred)\n",
    "print(\"Accuracy: %.2f%%\" % (accuracy * 100.0))"
   ]
  },
  {
   "cell_type": "code",
   "execution_count": null,
   "id": "aa696e48",
   "metadata": {},
   "outputs": [],
   "source": []
  },
  {
   "cell_type": "code",
   "execution_count": null,
   "id": "575f614e",
   "metadata": {},
   "outputs": [],
   "source": []
  },
  {
   "cell_type": "code",
   "execution_count": null,
   "id": "32e9358c",
   "metadata": {},
   "outputs": [],
   "source": []
  },
  {
   "cell_type": "code",
   "execution_count": null,
   "id": "0ead4f46",
   "metadata": {},
   "outputs": [],
   "source": []
  },
  {
   "cell_type": "code",
   "execution_count": null,
   "id": "aa060e92",
   "metadata": {},
   "outputs": [],
   "source": [
    "rf_random.best_params_\n",
    "# {'bootstrap': True,\n",
    "#  'max_depth': 70,\n",
    "#  'max_features': 'auto',\n",
    "#  'min_samples_leaf': 4,\n",
    "#  'min_samples_split': 10,\n",
    "#  'n_estimators': 400}"
   ]
  },
  {
   "cell_type": "code",
   "execution_count": null,
   "id": "c92027ea",
   "metadata": {},
   "outputs": [],
   "source": [
    "def evaluate(model, test_features, test_labels):\n",
    "    predictions = model.predict(test_features)\n",
    "    errors = abs(predictions - test_labels)\n",
    "    mape = 100 * np.mean(errors / test_labels)\n",
    "    accuracy = 100 - mape\n",
    "    print('Model Performance')\n",
    "    print('Average Error: {:0.4f} degrees.'.format(np.mean(errors)))\n",
    "    print('Accuracy = {:0.2f}%.'.format(accuracy))\n",
    "    \n",
    "    return accuracy"
   ]
  },
  {
   "cell_type": "code",
   "execution_count": null,
   "id": "f15b1eb7",
   "metadata": {},
   "outputs": [],
   "source": [
    "base_model = RandomForestRegressor(n_estimators = 10, random_state = 42)\n",
    "base_model.fit(train_features, train_labels)\n",
    "base_accuracy = evaluate(base_model, test_features, test_labels)"
   ]
  },
  {
   "cell_type": "code",
   "execution_count": null,
   "id": "999e4b82",
   "metadata": {},
   "outputs": [],
   "source": [
    "best_random = rf_random.best_estimator_\n",
    "random_accuracy = evaluate(best_random, test_features, test_labels)"
   ]
  },
  {
   "cell_type": "code",
   "execution_count": null,
   "id": "90e428d1",
   "metadata": {},
   "outputs": [],
   "source": []
  },
  {
   "cell_type": "code",
   "execution_count": null,
   "id": "0597ca1a",
   "metadata": {},
   "outputs": [],
   "source": []
  },
  {
   "cell_type": "code",
   "execution_count": null,
   "id": "4eba7ac7",
   "metadata": {},
   "outputs": [],
   "source": []
  },
  {
   "cell_type": "code",
   "execution_count": null,
   "id": "5807cd2c",
   "metadata": {},
   "outputs": [],
   "source": [
    "features = x.columns\n",
    "type(features)"
   ]
  },
  {
   "cell_type": "code",
   "execution_count": null,
   "id": "0af5550c",
   "metadata": {},
   "outputs": [],
   "source": [
    "import matplotlib.pyplot as plt"
   ]
  },
  {
   "cell_type": "code",
   "execution_count": null,
   "id": "60938f68",
   "metadata": {
    "scrolled": false
   },
   "outputs": [],
   "source": [
    "for feature in features:\n",
    "    plt.hist(df[feature], 50)\n",
    "    print(feature + \":\")\n",
    "    plt.show()"
   ]
  },
  {
   "cell_type": "code",
   "execution_count": null,
   "id": "50e75301",
   "metadata": {},
   "outputs": [],
   "source": [
    "from sklearn.preprocessing import StandardScaler\n",
    " \n",
    "# Read Data from CSv\n",
    " \n",
    "# Initialise the Scaler\n",
    "scaler = StandardScaler()\n",
    " \n",
    "# To scale data\n",
    "scaled_accomodates= scaler.fit_transform(df[['accommodates']])"
   ]
  },
  {
   "cell_type": "code",
   "execution_count": null,
   "id": "78f7acec",
   "metadata": {},
   "outputs": [],
   "source": [
    "type(df)"
   ]
  },
  {
   "cell_type": "code",
   "execution_count": null,
   "id": "ba52c120",
   "metadata": {
    "scrolled": true
   },
   "outputs": [],
   "source": [
    "scaled_df = scaler.fit_transform(df)"
   ]
  },
  {
   "cell_type": "code",
   "execution_count": null,
   "id": "b2a41f53",
   "metadata": {},
   "outputs": [],
   "source": [
    "scaled_df = pd.DataFrame(scaled_df)\n",
    "type(scaled_df)"
   ]
  },
  {
   "cell_type": "code",
   "execution_count": null,
   "id": "24031a7c",
   "metadata": {},
   "outputs": [],
   "source": [
    "df.head()"
   ]
  },
  {
   "cell_type": "code",
   "execution_count": null,
   "id": "d1c35bc4",
   "metadata": {},
   "outputs": [],
   "source": [
    "scaled_df.head()"
   ]
  },
  {
   "cell_type": "code",
   "execution_count": null,
   "id": "f0985be1",
   "metadata": {
    "scrolled": false
   },
   "outputs": [],
   "source": [
    "for feature in features:\n",
    "    plt.hist(scaled_df[feature], 50)\n",
    "    print(feature + \":\")\n",
    "    plt.show()"
   ]
  },
  {
   "cell_type": "code",
   "execution_count": null,
   "id": "0c7cf18e",
   "metadata": {},
   "outputs": [],
   "source": []
  },
  {
   "cell_type": "code",
   "execution_count": null,
   "id": "b92d7b1b",
   "metadata": {},
   "outputs": [],
   "source": [
    "plt.hist(scaled_accomodates, 50)\n",
    "plt.show()"
   ]
  },
  {
   "cell_type": "code",
   "execution_count": null,
   "id": "1a1ffdf8",
   "metadata": {},
   "outputs": [],
   "source": [
    "plt.hist(df['accommodates'], 50)\n",
    "plt.show()"
   ]
  }
 ],
 "metadata": {
  "kernelspec": {
   "display_name": "Python 3 (ipykernel)",
   "language": "python",
   "name": "python3"
  },
  "language_info": {
   "codemirror_mode": {
    "name": "ipython",
    "version": 3
   },
   "file_extension": ".py",
   "mimetype": "text/x-python",
   "name": "python",
   "nbconvert_exporter": "python",
   "pygments_lexer": "ipython3",
   "version": "3.10.1"
  }
 },
 "nbformat": 4,
 "nbformat_minor": 5
}
